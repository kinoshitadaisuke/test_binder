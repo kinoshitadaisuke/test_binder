{
 "cells": [
  {
   "cell_type": "code",
   "execution_count": 1,
   "id": "1a142432",
   "metadata": {},
   "outputs": [
    {
     "name": "stdout",
     "output_type": "stream",
     "text": [
      "This is my first test for Binder.\n",
      "a = 2\n",
      "b = 3\n",
      "c = a * b = 6\n"
     ]
    }
   ],
   "source": [
    "print (\"This is my first test for Binder.\")\n",
    "\n",
    "# two numbers\n",
    "a = 2\n",
    "b = 3\n",
    "\n",
    "# calculation\n",
    "c = a * b\n",
    "\n",
    "# printing result\n",
    "print (\"a =\", a)\n",
    "print (\"b =\", b)\n",
    "print (\"c = a * b =\", c)"
   ]
  },
  {
   "cell_type": "code",
   "execution_count": null,
   "id": "fe507099",
   "metadata": {},
   "outputs": [],
   "source": []
  }
 ],
 "metadata": {
  "kernelspec": {
   "display_name": "Python 3 (ipykernel)",
   "language": "python",
   "name": "python3"
  },
  "language_info": {
   "codemirror_mode": {
    "name": "ipython",
    "version": 3
   },
   "file_extension": ".py",
   "mimetype": "text/x-python",
   "name": "python",
   "nbconvert_exporter": "python",
   "pygments_lexer": "ipython3",
   "version": "3.9.13"
  }
 },
 "nbformat": 4,
 "nbformat_minor": 5
}
